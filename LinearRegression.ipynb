{
 "cells": [
  {
   "cell_type": "markdown",
   "metadata": {},
   "source": [
    "# Linear Regression\n",
    "\n",
    "I would like to explain how to implement linear regression from scratch using Python. We will first start by a one dimension problem, then a multidimensional problem."
   ]
  },
  {
   "cell_type": "markdown",
   "metadata": {},
   "source": [
    "# One feature (dimension = 1)"
   ]
  },
  {
   "cell_type": "code",
   "execution_count": 2,
   "metadata": {},
   "outputs": [],
   "source": [
    "import numpy as np\n",
    "import matplotlib.pyplot as plt"
   ]
  },
  {
   "cell_type": "markdown",
   "metadata": {},
   "source": [
    "Let's first define the problem: <br>\n",
    " \n",
    "$$\n",
    "Cost function(MSE):  {J(\\theta)=\\frac{1}{m}\\displaystyle\\sum_{i=1}^m(h_\\theta(x^{(i)}) - y^{(i)})^2} \\\\\n",
    "{Output:  h=\\theta_0 + \\theta_1x};      \\space \\space \\theta_0 = bias\\\\\n",
    "$$"
   ]
  },
  {
   "cell_type": "markdown",
   "metadata": {},
   "source": [
    "Let's first import the data:"
   ]
  },
  {
   "cell_type": "code",
   "execution_count": 3,
   "metadata": {},
   "outputs": [],
   "source": [
    "numpydata = np.loadtxt(fname=\"ex1data1.txt\",delimiter=\",\")\n",
    "x = numpydata[:,0]\n",
    "y = numpydata[:,1]"
   ]
  },
  {
   "cell_type": "markdown",
   "metadata": {},
   "source": [
    "Now let's implement the gradient descent algorithm:"
   ]
  },
  {
   "cell_type": "code",
   "execution_count": 4,
   "metadata": {},
   "outputs": [
    {
     "data": {
      "image/png": "[encoded data removed]",
      "text/plain": [
       "<Figure size 432x288 with 1 Axes>"
      ]
     },
     "metadata": {
      "needs_background": "light"
     },
     "output_type": "display_data"
    }
   ],
   "source": [
    "def train (x,y,alpha=1e-4,iterations=1000,plot=False):\n",
    "    \n",
    "    #train is an implementation of the gradient descent algorithm\n",
    "    #the algorithm follows these steps:\n",
    "    #1. Initialization of the parameters theta0 & theta1\n",
    "    #Loop\n",
    "    #2. Calculation of h\n",
    "    #3. Calculation of J\n",
    "    #4. Calculation of grad J\n",
    "    #5. Actualization of the parameters theta0 & theta1\n",
    "    \n",
    "    #initialization of the parameters theta\n",
    "    \n",
    "    theta0=0 #bias always initiated at 0\n",
    "    theta1=1e-3*np.random.randn()\n",
    "    J_tab = []\n",
    "    \n",
    "    #loop\n",
    "    for i in range(iterations):\n",
    "        h = theta1*x +theta0\n",
    "        J = 0.5*len(x)*np.sum((h-y)**2)\n",
    "        dj_dtheta1 = (1/len(x))*np.dot(x.T,h-y)\n",
    "        dj_dtheta0 = (1/len(x))*np.sum(h - y)            \n",
    "        theta1 = theta1 - alpha * dj_dtheta1\n",
    "        theta0 = theta0 - alpha * dj_dtheta0\n",
    "        J_tab.append(J)\n",
    "    parameters = [theta0,theta1]\n",
    "    \n",
    "    if (plot == True): \n",
    "        plt.plot(range(iterations), J_tab)  \n",
    "        \n",
    "    return [J_tab, parameters]\n",
    "\n",
    "lr = train(x,y,plot=True)"
   ]
  },
  {
   "cell_type": "markdown",
   "metadata": {},
   "source": [
    "Let's define a function predict, that for each set of values x will: <br> \n",
    "Return the R2 score <br>\n",
    "Plot both the predicted values & the training data in the same graph"
   ]
  },
  {
   "cell_type": "code",
   "execution_count": 5,
   "metadata": {},
   "outputs": [
    {
     "ename": "NameError",
     "evalue": "name 'parameters' is not defined",
     "output_type": "error",
     "traceback": [
      "\u001b[1;31m---------------------------------------------------------------------------\u001b[0m",
      "\u001b[1;31mNameError\u001b[0m                                 Traceback (most recent call last)",
      "\u001b[1;32m<ipython-input-5-7e04985c10bc>\u001b[0m in \u001b[0;36m<module>\u001b[1;34m\u001b[0m\n\u001b[0;32m     15\u001b[0m \u001b[1;33m\u001b[0m\u001b[0m\n\u001b[0;32m     16\u001b[0m \u001b[1;33m\u001b[0m\u001b[0m\n\u001b[1;32m---> 17\u001b[1;33m \u001b[0mpredict\u001b[0m\u001b[1;33m(\u001b[0m\u001b[0mx\u001b[0m\u001b[1;33m)\u001b[0m\u001b[1;33m\u001b[0m\u001b[1;33m\u001b[0m\u001b[0m\n\u001b[0m\u001b[0;32m     18\u001b[0m \u001b[1;33m\u001b[0m\u001b[0m\n",
      "\u001b[1;32m<ipython-input-5-7e04985c10bc>\u001b[0m in \u001b[0;36mpredict\u001b[1;34m(x)\u001b[0m\n\u001b[0;32m      2\u001b[0m     \u001b[0moutput\u001b[0m \u001b[1;33m=\u001b[0m \u001b[1;33m[\u001b[0m\u001b[1;33m]\u001b[0m\u001b[1;33m\u001b[0m\u001b[1;33m\u001b[0m\u001b[0m\n\u001b[0;32m      3\u001b[0m     \u001b[1;32mfor\u001b[0m \u001b[0mi\u001b[0m \u001b[1;32min\u001b[0m \u001b[0mrange\u001b[0m\u001b[1;33m(\u001b[0m\u001b[0mlen\u001b[0m\u001b[1;33m(\u001b[0m\u001b[0mx\u001b[0m\u001b[1;33m)\u001b[0m\u001b[1;33m)\u001b[0m\u001b[1;33m:\u001b[0m\u001b[1;33m\u001b[0m\u001b[1;33m\u001b[0m\u001b[0m\n\u001b[1;32m----> 4\u001b[1;33m         \u001b[0mh\u001b[0m \u001b[1;33m=\u001b[0m \u001b[0mparameters\u001b[0m\u001b[1;33m[\u001b[0m\u001b[1;36m0\u001b[0m\u001b[1;33m]\u001b[0m \u001b[1;33m+\u001b[0m \u001b[0mx\u001b[0m\u001b[1;33m[\u001b[0m\u001b[0mi\u001b[0m\u001b[1;33m]\u001b[0m \u001b[1;33m*\u001b[0m \u001b[0mparameters\u001b[0m\u001b[1;33m[\u001b[0m\u001b[1;36m1\u001b[0m\u001b[1;33m]\u001b[0m \u001b[1;31m#linear regression with one dimension\u001b[0m\u001b[1;33m\u001b[0m\u001b[1;33m\u001b[0m\u001b[0m\n\u001b[0m\u001b[0;32m      5\u001b[0m         \u001b[0moutput\u001b[0m\u001b[1;33m.\u001b[0m\u001b[0mappend\u001b[0m\u001b[1;33m(\u001b[0m\u001b[0mh\u001b[0m\u001b[1;33m)\u001b[0m\u001b[1;33m\u001b[0m\u001b[1;33m\u001b[0m\u001b[0m\n\u001b[0;32m      6\u001b[0m \u001b[1;33m\u001b[0m\u001b[0m\n",
      "\u001b[1;31mNameError\u001b[0m: name 'parameters' is not defined"
     ]
    }
   ],
   "source": [
    "def predict(x):\n",
    "    output = []\n",
    "    for i in range(len(x)):\n",
    "        h = parameters[0] + x[i] * parameters[1] #linear regression with one dimension\n",
    "        output.append(h)\n",
    "    \n",
    "    y_mean = np.sum(y)/len(y)\n",
    "    SSres = np.sum((y-output)**2)\n",
    "    SStot = np.sum((y-y_mean)**2)\n",
    "    r2 = 1 - (SSres/SStot)\n",
    "    \n",
    "    print('R2 is equal to', round(r2,2))\n",
    "    plt.plot(x,output,'b-')\n",
    "    plt.plot(x,y,'r.')\n",
    "    \n",
    "\n",
    "predict(x)\n",
    "        "
   ]
  },
  {
   "cell_type": "markdown",
   "metadata": {},
   "source": [
    "### Regularization term\n",
    "We add a regularization term called Jreg to the cost function to avoid having an overfit. Therefore we add a bias to the cost:\n",
    "J = Jdata + Jreg <br>\n",
    "\n",
    "$$\n",
    "{J_{reg}(\\theta)=\\frac{1}{2m}\\lambda\\sum_{i=1}^m\\theta_i^2} \\\\ \\lambda = { regularization  \\space  term}\n",
    "$$"
   ]
  },
  {
   "cell_type": "code",
   "execution_count": null,
   "metadata": {},
   "outputs": [],
   "source": [
    "def train_reg (x,y,alpha=1e-4, iterations=1000,plot=False, reg=0):\n",
    "    #reg is the regularization term\n",
    "    #initialization of the parameters theta\n",
    "    \n",
    "    theta0=0 #bias always initiated at 0\n",
    "    theta1=1e-3*np.random.randn()\n",
    "    J_tab = []\n",
    "    \n",
    "    #loop\n",
    "    for i in range(iterations):\n",
    "        h = theta1*x +theta0\n",
    "        #Cost function with regularization term\n",
    "        Jreg = (0.5/(len(x)))*reg*theta1**2\n",
    "        J = 0.5*len(x)*np.sum((h-y)**2) + Jreg\n",
    "        #differentials of cost function dJ/dtheta1 & dJ/dtheta0\n",
    "        dj_dtheta1_reg = (1/(len(x)))*reg*theta1\n",
    "        dj_dtheta1 = (1/len(x))*np.dot(x.T,h-y) + dj_dtheta1_reg\n",
    "        dj_dtheta0 = (1/len(x))*np.sum(h - y)\n",
    "        #parameter and bias\n",
    "        theta1 = theta1 - alpha * dj_dtheta1\n",
    "        theta0 = theta0 - alpha * dj_dtheta0\n",
    "        J_tab.append(J)\n",
    "                  \n",
    "    parameters = [theta0,theta1]\n",
    "    \n",
    "    if (plot == True): \n",
    "        plt.plot(range(iterations), J_tab)\n",
    "        \n",
    "    return [J_tab, parameters]        \n",
    "        \n",
    "lr = train_reg (x,y,plot=True)"
   ]
  },
  {
   "cell_type": "code",
   "execution_count": null,
   "metadata": {},
   "outputs": [],
   "source": [
    "parameters = lr[1]\n",
    "def predict(x):\n",
    "    output = []\n",
    "    for i in range(len(x)):\n",
    "        h = parameters[0] + x[i] * parameters[1] #linear regression with one dimension\n",
    "        output.append(h)\n",
    "    \n",
    "    y_mean = np.sum(y)/len(y)\n",
    "    SSres = np.sum((y-output)**2)\n",
    "    SStot = np.sum((y-y_mean)**2)\n",
    "    r2 = 1 - (SSres/SStot)\n",
    "    \n",
    "    print('R2 is equal to', round(r2,2))\n",
    "    plt.plot(x,output,'b-')\n",
    "    plt.plot(x,y,'r.')\n",
    "    \n",
    "predict(x) #prediction with regularization term"
   ]
  },
  {
   "cell_type": "markdown",
   "metadata": {},
   "source": [
    "## One dimension problem wrap-up\n",
    "\n",
    "Let's define a class called LinearRegression to make the code easier:"
   ]
  },
  {
   "cell_type": "code",
   "execution_count": null,
   "metadata": {},
   "outputs": [],
   "source": [
    "class LinearRegressionOneD:\n",
    "    def __init__(self):\n",
    "        self.theta0=0 #bias always initiated at 0\n",
    "        self.theta1=1e-3*np.random.randn()\n",
    "        self.costs = []\n",
    "    \n",
    "    def train(self,x,y,alpha=5e-4, iterations=1000,plot=False, reg=10):\n",
    "        theta0 = self.theta0\n",
    "        theta1 = self.theta1\n",
    "        J_tab = []\n",
    "        #loop\n",
    "        for i in range(iterations):\n",
    "            h = theta1*x +theta0\n",
    "            #Cost function with regularization term\n",
    "            Jreg = (0.5/(len(x)))*reg*theta1**2\n",
    "            J = 0.5*len(x)*np.sum((h-y)**2) + Jreg\n",
    "            #differentials of cost function dJ/dtheta1 & dJ/dtheta0\n",
    "            dj_dtheta1_reg = (1/(len(x)))*reg*theta1\n",
    "            dj_dtheta1 = (1/len(x))*np.dot(x.T,h-y) + dj_dtheta1_reg\n",
    "            dj_dtheta0 = (1/len(x))*np.sum(h - y)\n",
    "            #parameter and bias\n",
    "            theta1 = theta1 - alpha * dj_dtheta1\n",
    "            theta0 = theta0 - alpha * dj_dtheta0\n",
    "            J_tab.append(J)\n",
    "            \n",
    "        self.theta0 = theta0\n",
    "        self.theta1 = theta1\n",
    "        self.costs=J_tab\n",
    "\n",
    "        if (plot == True): \n",
    "            plt.plot(range(iterations), J_tab)\n",
    "\n",
    "    def predict(self, x):\n",
    "        theta0 = self.theta0\n",
    "        theta1 = self.theta1\n",
    "        output = []\n",
    "        for i in range(len(x)):\n",
    "            h = theta0 + x[i] * theta1 #linear regression with one dimension\n",
    "            output.append(h)\n",
    "\n",
    "        y_mean = np.sum(y)/len(y)\n",
    "        SSres = np.sum((y-output)**2)\n",
    "        SStot = np.sum((y-y_mean)**2)\n",
    "        r2 = 1 - (SSres/SStot)\n",
    "\n",
    "        print('R2 is equal to', round(r2,2))\n",
    "        plt.plot(x,output,'b-')\n",
    "        plt.plot(x,y,'r.')\n",
    "        \n",
    "lr = LinearRegressionOneD()   \n",
    "lr.train(x,y,plot=True)        "
   ]
  },
  {
   "cell_type": "code",
   "execution_count": null,
   "metadata": {},
   "outputs": [],
   "source": [
    "def r2_score(output,y) :\n",
    "    y_mean = np.mean(y)\n",
    "    SSres = np.sum((y-output)**2)\n",
    "    SStot = np.sum((y-y_mean)**2)\n",
    "    r2 = 1 - (SSres/SStot)\n",
    "    return r2"
   ]
  },
  {
   "cell_type": "code",
   "execution_count": 6,
   "metadata": {},
   "outputs": [
    {
     "ename": "AttributeError",
     "evalue": "'list' object has no attribute 'predict'",
     "output_type": "error",
     "traceback": [
      "\u001b[1;31m---------------------------------------------------------------------------\u001b[0m",
      "\u001b[1;31mAttributeError\u001b[0m                            Traceback (most recent call last)",
      "\u001b[1;32m<ipython-input-6-bc4e8fde6bd2>\u001b[0m in \u001b[0;36m<module>\u001b[1;34m\u001b[0m\n\u001b[1;32m----> 1\u001b[1;33m \u001b[0mlr\u001b[0m\u001b[1;33m.\u001b[0m\u001b[0mpredict\u001b[0m\u001b[1;33m(\u001b[0m\u001b[0mx\u001b[0m\u001b[1;33m)\u001b[0m\u001b[1;33m\u001b[0m\u001b[1;33m\u001b[0m\u001b[0m\n\u001b[0m",
      "\u001b[1;31mAttributeError\u001b[0m: 'list' object has no attribute 'predict'"
     ]
    }
   ],
   "source": [
    "lr.predict(x)"
   ]
  },
  {
   "cell_type": "markdown",
   "metadata": {},
   "source": [
    "# Multiple features (dimension = n)"
   ]
  },
  {
   "cell_type": "markdown",
   "metadata": {},
   "source": [
    "Let's now consider the problem with n dimension (n features)"
   ]
  },
  {
   "cell_type": "markdown",
   "metadata": {},
   "source": [
    "Let's practice with data"
   ]
  },
  {
   "cell_type": "code",
   "execution_count": 8,
   "metadata": {},
   "outputs": [
    {
     "data": {
      "text/plain": [
       "((36, 2), (11, 2))"
      ]
     },
     "execution_count": 8,
     "metadata": {},
     "output_type": "execute_result"
    }
   ],
   "source": [
    "import numpy as np\n",
    "import matplotlib.pyplot as plt\n",
    "\n",
    "#Import data for multivariable linear regression\n",
    "numpydata = np.loadtxt(fname=\"multivariable.txt\",delimiter=\",\")\n",
    "X = numpydata[:,0:2]\n",
    "y = numpydata[:,2]\n",
    "sample_size = X.shape[0]\n",
    "X_copy = np.copy(X)\n",
    "np.random.shuffle(X_copy) #mix the data randomly\n",
    "y_copy = np.copy(y)\n",
    "np.random.shuffle(y_copy)\n",
    "\n",
    "#Divide data between training set (4/5) and testing set (1/5)\n",
    "X_train, X_test = X_copy[:4*round(sample_size/5),:], X_copy[4*round(sample_size/5):,:]\n",
    "y_train, y_test = y_copy[:4*round(47/5)], y_copy[4*round(47/5):]\n",
    "\n",
    "X_train.shape, X_test.shape"
   ]
  },
  {
   "cell_type": "code",
   "execution_count": 9,
   "metadata": {
    "scrolled": true
   },
   "outputs": [
    {
     "ename": "NameError",
     "evalue": "name 'r2_score' is not defined",
     "output_type": "error",
     "traceback": [
      "\u001b[1;31m---------------------------------------------------------------------------\u001b[0m",
      "\u001b[1;31mNameError\u001b[0m                                 Traceback (most recent call last)",
      "\u001b[1;32m<ipython-input-9-be2e9729b8fa>\u001b[0m in \u001b[0;36m<module>\u001b[1;34m\u001b[0m\n\u001b[0;32m     29\u001b[0m     \u001b[1;32mreturn\u001b[0m \u001b[0mtheta0\u001b[0m\u001b[1;33m,\u001b[0m \u001b[0mtheta\u001b[0m\u001b[1;33m,\u001b[0m \u001b[0mh\u001b[0m\u001b[1;33m,\u001b[0m \u001b[0mr2_score\u001b[0m\u001b[1;33m(\u001b[0m\u001b[0mh\u001b[0m\u001b[1;33m,\u001b[0m\u001b[0my\u001b[0m\u001b[1;33m)\u001b[0m\u001b[1;33m\u001b[0m\u001b[1;33m\u001b[0m\u001b[0m\n\u001b[0;32m     30\u001b[0m \u001b[1;33m\u001b[0m\u001b[0m\n\u001b[1;32m---> 31\u001b[1;33m \u001b[0mlr\u001b[0m \u001b[1;33m=\u001b[0m \u001b[0mtrain\u001b[0m \u001b[1;33m(\u001b[0m\u001b[0mX\u001b[0m\u001b[1;33m,\u001b[0m\u001b[0my\u001b[0m\u001b[1;33m,\u001b[0m \u001b[0mplot\u001b[0m\u001b[1;33m=\u001b[0m\u001b[1;32mTrue\u001b[0m\u001b[1;33m)\u001b[0m\u001b[1;33m\u001b[0m\u001b[1;33m\u001b[0m\u001b[0m\n\u001b[0m\u001b[0;32m     32\u001b[0m \u001b[1;31m#print(lr)\u001b[0m\u001b[1;33m\u001b[0m\u001b[1;33m\u001b[0m\u001b[1;33m\u001b[0m\u001b[0m\n",
      "\u001b[1;32m<ipython-input-9-be2e9729b8fa>\u001b[0m in \u001b[0;36mtrain\u001b[1;34m(X, y, alpha, plot, iterations)\u001b[0m\n\u001b[0;32m     27\u001b[0m         \u001b[0mplt\u001b[0m\u001b[1;33m.\u001b[0m\u001b[0mplot\u001b[0m\u001b[1;33m(\u001b[0m\u001b[0mrange\u001b[0m\u001b[1;33m(\u001b[0m\u001b[0miterations\u001b[0m\u001b[1;33m)\u001b[0m\u001b[1;33m,\u001b[0m \u001b[0mJ_tab\u001b[0m\u001b[1;33m)\u001b[0m\u001b[1;33m\u001b[0m\u001b[1;33m\u001b[0m\u001b[0m\n\u001b[0;32m     28\u001b[0m \u001b[1;33m\u001b[0m\u001b[0m\n\u001b[1;32m---> 29\u001b[1;33m     \u001b[1;32mreturn\u001b[0m \u001b[0mtheta0\u001b[0m\u001b[1;33m,\u001b[0m \u001b[0mtheta\u001b[0m\u001b[1;33m,\u001b[0m \u001b[0mh\u001b[0m\u001b[1;33m,\u001b[0m \u001b[0mr2_score\u001b[0m\u001b[1;33m(\u001b[0m\u001b[0mh\u001b[0m\u001b[1;33m,\u001b[0m\u001b[0my\u001b[0m\u001b[1;33m)\u001b[0m\u001b[1;33m\u001b[0m\u001b[1;33m\u001b[0m\u001b[0m\n\u001b[0m\u001b[0;32m     30\u001b[0m \u001b[1;33m\u001b[0m\u001b[0m\n\u001b[0;32m     31\u001b[0m \u001b[0mlr\u001b[0m \u001b[1;33m=\u001b[0m \u001b[0mtrain\u001b[0m \u001b[1;33m(\u001b[0m\u001b[0mX\u001b[0m\u001b[1;33m,\u001b[0m\u001b[0my\u001b[0m\u001b[1;33m,\u001b[0m \u001b[0mplot\u001b[0m\u001b[1;33m=\u001b[0m\u001b[1;32mTrue\u001b[0m\u001b[1;33m)\u001b[0m\u001b[1;33m\u001b[0m\u001b[1;33m\u001b[0m\u001b[0m\n",
      "\u001b[1;31mNameError\u001b[0m: name 'r2_score' is not defined"
     ]
    },
    {
     "data": {
      "image/png": "[encoded data removed]",
      "text/plain": [
       "<Figure size 432x288 with 1 Axes>"
      ]
     },
     "metadata": {
      "needs_background": "light"
     },
     "output_type": "display_data"
    }
   ],
   "source": [
    "def train (X,y,alpha=1e-10, plot=False, iterations=10000):\n",
    "    #find the dimension D and number of samples m\n",
    "    D = X.shape[1]\n",
    "    m = X.shape[0]\n",
    "    \n",
    "    #initialization of the parameters\n",
    "    theta0 = 0\n",
    "    theta = 1e-3*np.random.randn(D) #vector of dimension D\n",
    "    \n",
    "    #Gradient descent algorithm\n",
    "    J_tab = []\n",
    "    for i in range(iterations):\n",
    "        h = np.dot(X,theta) + theta0#vector of dimension m number of samples\n",
    "        J = (0.5/m)*np.dot((h-y).T,h-y) #real value\n",
    "        #gradient calculation\n",
    "        dJ_dtheta = np.dot(X.T,h-y)/m #vector of dimension n\n",
    "        dJ_dtheta0 = (1/m)*np.sum(h - y)\n",
    "        #parameters actualization\n",
    "        theta = theta - alpha * dJ_dtheta\n",
    "        theta0 = theta0 - alpha*dJ_dtheta0\n",
    "        #saving values of the cost to plot the graph\n",
    "        J_tab.append(J)\n",
    "        #print(theta)\n",
    "    \n",
    "    #print(J_tab)\n",
    "    if(plot==True):\n",
    "        plt.plot(range(iterations), J_tab)\n",
    "        \n",
    "    return theta0, theta, h, r2_score(h,y)\n",
    "\n",
    "lr = train (X,y, plot=True)\n",
    "#print(lr)"
   ]
  },
  {
   "cell_type": "markdown",
   "metadata": {},
   "source": [
    "Let's create a function that gives the best alpha out of a list of candidates. "
   ]
  },
  {
   "cell_type": "code",
   "execution_count": null,
   "metadata": {},
   "outputs": [],
   "source": [
    "def best_alpha(alpha_list):\n",
    "    best_r2 = 0\n",
    "    best_alpha = 0\n",
    "    for alpha in learning_rates :\n",
    "        _,_,h,r2 = train(X,y,alpha=alpha,plot=False)\n",
    "        print(f\"For alpha = {alpha} : R2 = {r2}\")\n",
    "        if r2 > best_r2 :\n",
    "            best_alpha = alpha\n",
    "    print(f\"\\nBest alpha : {alpha}\\n\")\n",
    "\n",
    "learning_rates = [5e-10, 7.5e-10, 1e-9, 1e-8]\n",
    "best_alpha(learning_rates)"
   ]
  },
  {
   "cell_type": "markdown",
   "metadata": {},
   "source": [
    "Let's now create a class called LinearRegression that regroups all of the functions seen above. This time this class would be applied to both one dimensional and multidimensional problems.\n",
    "\n",
    "PROBLEM FOR SCORE FUNCTION\n",
    "BEST ALPHA FUNCTION NOT CHECKED\n",
    "ADD REGULARIZATION TERM"
   ]
  },
  {
   "cell_type": "code",
   "execution_count": 11,
   "metadata": {
    "scrolled": true
   },
   "outputs": [
    {
     "data": {
      "text/plain": [
       "-1.6447732288666352"
      ]
     },
     "execution_count": 11,
     "metadata": {},
     "output_type": "execute_result"
    },
    {
     "data": {
      "image/png": "[encoded data removed]",
      "text/plain": [
       "<Figure size 432x288 with 1 Axes>"
      ]
     },
     "metadata": {
      "needs_background": "light"
     },
     "output_type": "display_data"
    }
   ],
   "source": [
    "class LinearRegression:\n",
    "    def __init__(self):\n",
    "        self.theta0=0 #bias \n",
    "        self.theta=[] #parameters\n",
    "        self.costs = [] #cost values\n",
    "    \n",
    "    def train (self,X,y,alpha=1e-10, plot=False, iterations=10000):\n",
    "        #find the dimension D and number of samples m\n",
    "        D = X.shape[1]\n",
    "        m = X.shape[0]\n",
    "        \n",
    "        #initialization of the parameters\n",
    "        theta0=self.theta0\n",
    "        theta=self.theta\n",
    "        theta0 = 0\n",
    "        theta = 1e-3*np.random.randn(D) #vector of dimension D\n",
    "\n",
    "        #Gradient descent algorithm\n",
    "        J_tab = []\n",
    "        for i in range(iterations):\n",
    "            h = np.dot(X,theta) + theta0 #vector of dimension m number of samples\n",
    "            J = (0.5/m)*np.dot((h-y).T,h-y) #real value\n",
    "            #gradient calculation\n",
    "            dJ_dtheta = np.dot(X.T,h-y)/m #vector of dimension n\n",
    "            dJ_dtheta0 = (1/m)*np.sum(h - y)\n",
    "            #parameters actualization\n",
    "            theta = theta - alpha * dJ_dtheta\n",
    "            theta0 = theta0 - alpha*dJ_dtheta0\n",
    "            #saving values of the cost to plot the graph\n",
    "            J_tab.append(J)\n",
    "        \n",
    "        #update values in self object\n",
    "        self.theta0=theta0\n",
    "        self.theta = theta\n",
    "        self.costs=J_tab\n",
    "        \n",
    "        if(plot==True):\n",
    "            plt.plot(range(iterations), J_tab)\n",
    "            \n",
    "\n",
    "    def predict(self, X, plot=False):\n",
    "        theta0 = self.theta0\n",
    "        theta = self.theta\n",
    "        h = np.dot(X,theta) + theta0 #linear regression with multidimension\n",
    "        return h\n",
    "\n",
    "    \n",
    "    def score(self,X,y):\n",
    "        theta0 = self.theta0\n",
    "        theta = self.theta\n",
    "        output = np.dot(X,theta) + theta0 #linear regression with multidimension\n",
    "        #r2 calculation\n",
    "        y_mean = np.mean(y)\n",
    "        SSres = np.sum((y-output)**2)\n",
    "        SStot = np.sum((y-y_mean)**2)\n",
    "        r2 = 1 - (SSres/SStot)\n",
    "            \n",
    "        return r2\n",
    "    \n",
    "    def best_alpha(self, alpha_list,X,y):\n",
    "        h=self.h\n",
    "        r2=score(X,y)\n",
    "        best_r2 = 0\n",
    "        best_alpha = 0\n",
    "        for alpha in alpha_list :\n",
    "            print(f\"For alpha = {alpha} : R2 = {r2}\")\n",
    "            if r2 > best_r2 :\n",
    "                best_alpha = alpha\n",
    "        print(f\"\\nBest alpha : {alpha}\\n\")\n",
    "\n",
    "lr = LinearRegression()   \n",
    "lr.train(X_train,y_train,plot=True)\n",
    "lr.predict(X_test)\n",
    "lr.score(X_test,y_test)"
   ]
  },
  {
   "cell_type": "code",
   "execution_count": null,
   "metadata": {},
   "outputs": [],
   "source": []
  }
 ],
 "metadata": {
  "kernelspec": {
   "display_name": "Python 3",
   "language": "python",
   "name": "python3"
  },
  "language_info": {
   "codemirror_mode": {
    "name": "ipython",
    "version": 3
   },
   "file_extension": ".py",
   "mimetype": "text/x-python",
   "name": "python",
   "nbconvert_exporter": "python",
   "pygments_lexer": "ipython3",
   "version": "3.7.6"
  }
 },
 "nbformat": 4,
 "nbformat_minor": 4
}

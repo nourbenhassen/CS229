{
 "cells": [
  {
   "cell_type": "markdown",
   "metadata": {},
   "source": [
    "# Logistic Regression\n",
    "\n",
    "I would like to explain how to implement logistic regression from scratch using Python. We will first start by a binary classification (2 possible outputs), and then implement a multiclass classification."
   ]
  },
  {
   "cell_type": "markdown",
   "metadata": {},
   "source": [
    "## Binary classification"
   ]
  },
  {
   "cell_type": "code",
   "execution_count": 16,
   "metadata": {},
   "outputs": [],
   "source": [
    "import numpy as np\n",
    "import matplotlib.pyplot as plt\n",
    "import math"
   ]
  },
  {
   "cell_type": "code",
   "execution_count": 8,
   "metadata": {},
   "outputs": [],
   "source": [
    "numpydata = np.loadtxt(fname=\"logistic_binary.txt\",delimiter=\",\")\n",
    "X = numpydata[:,0:-1]\n",
    "y = numpydata[:,-1]"
   ]
  },
  {
   "cell_type": "code",
   "execution_count": 99,
   "metadata": {},
   "outputs": [
    {
     "data": {
      "image/png": "[encoded data removed]",
      "text/plain": [
       "<Figure size 432x288 with 1 Axes>"
      ]
     },
     "metadata": {
      "needs_background": "light"
     },
     "output_type": "display_data"
    }
   ],
   "source": [
    "def train (X,y,alpha=3.285e-4,iterations=10,plot=False):\n",
    "    #find the dimension D and number of samples m\n",
    "    D = X.shape[1]\n",
    "    m = X.shape[0]\n",
    "    #initialization of the parameters\n",
    "\n",
    "    theta0=0\n",
    "    theta=1e-1*np.random.randn(D) #vector of dimension D\n",
    "    \n",
    "    #Gradient descent algorithm\n",
    "    J_tab = []\n",
    "    for i in range(iterations):\n",
    "        h = (1/(1+np.exp((-(np.dot(X,theta) + theta0))))) #vector of dimension m number of samples\n",
    "        J = (1/m)*np.sum(np.dot(-y.T,np.log10(h))-np.dot((1-y).T,np.log(1-h))) #real\n",
    "        #gradient calculation\n",
    "        dJ_dtheta = np.dot(X.T,h-y)/m #vector of dimension n\n",
    "        dJ_dtheta0 = (1/m)*np.sum(h - y)\n",
    "        #parameters actualization \n",
    "        theta = theta - alpha * dJ_dtheta\n",
    "        theta0 = theta0 - alpha*dJ_dtheta0\n",
    "        #saving values of the cost to plot the graph\n",
    "        J_tab.append(J)\n",
    "        #print(J_tab)\n",
    "    \n",
    "    if(plot==True):\n",
    "            plt.plot(range(iterations), J_tab)\n",
    "            \n",
    "train(X,y,plot=True)"
   ]
  },
  {
   "cell_type": "markdown",
   "metadata": {},
   "source": [
    "## Multiple classes\n",
    "\n",
    "The idea is to train one hypothesis h per class. So in total we will have k hypthoseses (with k=number of classes). To predict a value from an input x, the the different h values will be calculated, and the highest value will correspond to the highest probability that the output is of the corresponding class. \n",
    "\n",
    "Indeed hi = P(y=i|x;theta) for each class"
   ]
  },
  {
   "cell_type": "code",
   "execution_count": 97,
   "metadata": {
    "scrolled": true
   },
   "outputs": [
    {
     "data": {
      "text/plain": [
       "(array([ 1.42639449e-04, -8.84916238e-05]),\n",
       " array([[0.00149762, 0.0093143 ],\n",
       "        [0.00358779, 0.00721455]]))"
      ]
     },
     "execution_count": 97,
     "metadata": {},
     "output_type": "execute_result"
    }
   ],
   "source": [
    "def train_g (X,y,alpha=3.285e-4,iterations=10,plot=False):\n",
    "    #find the dimension D and number of samples m\n",
    "    D = X.shape[1]\n",
    "    m = X.shape[0]\n",
    "    k = np.unique(y) #gives array containing the classes unique values sorted\n",
    "    \n",
    "    #initialization of the parameters\n",
    "\n",
    "    theta0=0\n",
    "    Theta0=[] # one theta0 value per class => one vector of dimension k\n",
    "    theta=1e-1*np.random.randn(D) #vector of dimension D\n",
    "    Theta=[] #matrix of dimension k x D\n",
    "    #Gradient descent algorithm\n",
    "    J_TAB = []\n",
    "    J_tab = []\n",
    "    \n",
    "    for j in range(k.shape[0]):\n",
    "        for i in range(iterations):\n",
    "            h = (1/(1+np.exp((-(np.dot(X,theta) + theta0))))) #vector of dimension m number of samples\n",
    "            J = (1/m)*np.sum(np.dot(-y.T,np.log10(h))-np.dot((1-y).T,np.log(1-h))) #real\n",
    "            #gradient calculation\n",
    "            dJ_dtheta = np.dot(X.T,h-y)/m #vector of dimension D\n",
    "            dJ_dtheta0 = (1/m)*np.sum(h - y)\n",
    "            #parameters actualization \n",
    "            theta = theta - alpha * dJ_dtheta #vector of dimension D\n",
    "            theta0 = theta0 - alpha*dJ_dtheta0 #real value\n",
    "            #saving values of the cost to plot the graph\n",
    "            J_tab.append(J)\n",
    "        Theta0.append(theta0) #vector of dimension k\n",
    "        Theta.append(theta) #matrix of dimension k x D\n",
    "        J_TAB.append(J_tab)\n",
    "        #print(J_tab)\n",
    "        #if(plot==True):\n",
    "            #plt.plot(range(iterations), J_tab)\n",
    "    return np.array(Theta0), np.array(Theta)\n",
    "            \n",
    "train_g(X,y,plot=True)"
   ]
  },
  {
   "cell_type": "markdown",
   "metadata": {},
   "source": [
    "# Simple neural networks"
   ]
  },
  {
   "cell_type": "code",
   "execution_count": 75,
   "metadata": {},
   "outputs": [],
   "source": [
    "import numpy as np\n",
    "import matplotlib.pyplot as plt\n"
   ]
  },
  {
   "cell_type": "code",
   "execution_count": 128,
   "metadata": {
    "scrolled": true
   },
   "outputs": [
    {
     "data": {
      "text/plain": [
       "(25,)"
      ]
     },
     "execution_count": 128,
     "metadata": {},
     "output_type": "execute_result"
    }
   ],
   "source": [
    "X = np.loadtxt('X_handwritten.txt')\n",
    "y = np.loadtxt('y_handwritten.txt')\n",
    "theta1 = np.loadtxt('Theta1.txt')\n",
    "theta2 = np.loadtxt('Theta2.txt')\n",
    "\n",
    "bias1 = theta1[:,0]\n",
    "bias2=theta2[:,0]\n",
    "theta1 = np.delete(theta1, 0, 1) # delete second column of C\n",
    "theta2 = np.delete(theta2, 0, 1)"
   ]
  },
  {
   "cell_type": "code",
   "execution_count": null,
   "metadata": {},
   "outputs": [],
   "source": [
    "In the received data the bias and the parameters are in the same"
   ]
  },
  {
   "cell_type": "code",
   "execution_count": 87,
   "metadata": {},
   "outputs": [
    {
     "ename": "ValueError",
     "evalue": "cannot reshape array of size 400 into shape (25,25)",
     "output_type": "error",
     "traceback": [
      "\u001b[1;31m---------------------------------------------------------------------------\u001b[0m",
      "\u001b[1;31mValueError\u001b[0m                                Traceback (most recent call last)",
      "\u001b[1;32m<ipython-input-87-e00776ad0485>\u001b[0m in \u001b[0;36m<module>\u001b[1;34m\u001b[0m\n\u001b[0;32m      1\u001b[0m \u001b[1;32mfrom\u001b[0m \u001b[0mPIL\u001b[0m \u001b[1;32mimport\u001b[0m \u001b[0mImage\u001b[0m\u001b[1;33m\u001b[0m\u001b[1;33m\u001b[0m\u001b[0m\n\u001b[1;32m----> 2\u001b[1;33m \u001b[0msample\u001b[0m\u001b[1;33m=\u001b[0m\u001b[0mX\u001b[0m\u001b[1;33m[\u001b[0m\u001b[1;36m200\u001b[0m\u001b[1;33m,\u001b[0m\u001b[1;33m:\u001b[0m\u001b[1;33m]\u001b[0m\u001b[1;33m.\u001b[0m\u001b[0mreshape\u001b[0m\u001b[1;33m(\u001b[0m\u001b[1;36m25\u001b[0m\u001b[1;33m,\u001b[0m\u001b[1;36m25\u001b[0m\u001b[1;33m)\u001b[0m\u001b[1;33m\u001b[0m\u001b[1;33m\u001b[0m\u001b[0m\n\u001b[0m\u001b[0;32m      3\u001b[0m \u001b[0mimg\u001b[0m \u001b[1;33m=\u001b[0m \u001b[0mImage\u001b[0m\u001b[1;33m.\u001b[0m\u001b[0mfromarray\u001b[0m\u001b[1;33m(\u001b[0m\u001b[0msample\u001b[0m\u001b[1;33m)\u001b[0m\u001b[1;33m\u001b[0m\u001b[1;33m\u001b[0m\u001b[0m\n",
      "\u001b[1;31mValueError\u001b[0m: cannot reshape array of size 400 into shape (25,25)"
     ]
    }
   ],
   "source": [
    "from PIL import Image\n",
    "sample=X[200,:].reshape(20,20)\n",
    "img = Image.fromarray(sample)"
   ]
  },
  {
   "cell_type": "code",
   "execution_count": 86,
   "metadata": {},
   "outputs": [
    {
     "data": {
      "image/png": "[encoded data removed]",
      "text/plain": [
       "<Figure size 432x288 with 1 Axes>"
      ]
     },
     "metadata": {
      "needs_background": "light"
     },
     "output_type": "display_data"
    }
   ],
   "source": [
    "plt.imshow(img, cmap='gray', vmin=0, vmax=255)\n",
    "plt.show()"
   ]
  },
  {
   "cell_type": "markdown",
   "metadata": {},
   "source": [
    "Let's implement a simple fully connected neural network with a (20x20) pixels picture containing a handwritten digit as input layer, one hidden layer (25 units) an ouput layer (10 classes: digits 0 to 9). The digit zero is written as ten in the data set. Therefore, a “0” digit is labeled as “10”, while the digits “1” to “9” are labeled as “1” to “9” in their natural order."
   ]
  },
  {
   "cell_type": "markdown",
   "metadata": {},
   "source": [
    "Let's convert y from an integer to a vector for each sample. What we want to achieve is for example: y = 2 becomes y=[0,0,1,0,0,0,0,0,0,0]"
   ]
  },
  {
   "cell_type": "code",
   "execution_count": 106,
   "metadata": {},
   "outputs": [],
   "source": [
    "import pandas as pd\n",
    "\n",
    "y_copy=pd.DataFrame(y)\n",
    "y_copy=pd.get_dummies(y[0].astype(int))\n",
    "\n",
    "#convert dataframe to numpy array\n",
    "y_copy = y_copy.to_numpy()"
   ]
  },
  {
   "cell_type": "markdown",
   "metadata": {},
   "source": [
    "NOT USING REGULARIZATION TERM FOR NOW\n",
    "NOT INCLUDING BIAS1 & BIAS2"
   ]
  },
  {
   "cell_type": "code",
   "execution_count": 154,
   "metadata": {
    "scrolled": true
   },
   "outputs": [
    {
     "name": "stderr",
     "output_type": "stream",
     "text": [
      "C:\\Users\\nbenhassen\\Anaconda3\\lib\\site-packages\\ipykernel_launcher.py:17: RuntimeWarning: overflow encountered in exp\n"
     ]
    }
   ],
   "source": [
    "def train_neural (X,y,iterations=2):\n",
    "    #definition of the layers\n",
    "    D = X.shape[1] #dimension of the input\n",
    "    H1 = 25 #hidden layer contains 25 units\n",
    "    k = np.unique(y).shape[0] # number of classes\n",
    "    #initialization of theta and bias\n",
    "    bias_1 = np.matlib.zeros((25,10)) #matrix (25 x 10)\n",
    "    bias_2 = np.matlib.zeros((25,10))\n",
    "    theta_layer1 = theta1\n",
    "    theta_layer2 = theta2\n",
    "    \n",
    "    for i in range(iterations):\n",
    "    #Forward propagation\n",
    "        z_2 = np.dot(X,theta_layer1.T) #+ bias_1\n",
    "        a_2 = (1/(1+np.exp((-z_2))))\n",
    "        z_3 = np.dot(a_2,theta_layer2.T) #+ bias_2\n",
    "        a_3 = (1/(1+np.exp((-z_3))))\n",
    "        #Backward propagation\n",
    "        # dL/dtheta = dL/dz . dz/dtheta\n",
    "        #dL/dtheta2\n",
    "        delta_3 = a_3-y # delta = dL/dz\n",
    "        dz_dtheta2 = a_2\n",
    "        dL_dtheta2 = np.dot(a_2.T,delta_3)\n",
    "        #dL/dtheta1\n",
    "        a=np.dot(delta_3,theta_layer2)\n",
    "        b=(a_2*(1-a_2))\n",
    "        delta_2 = b*a \n",
    "        dz_dtheta1 = X\n",
    "        dL_dtheta1 = np.dot (dz_dtheta1.T, delta_2)\n",
    "        \n",
    "        #Parameters update\n",
    "        theta_layer1 = theta_layer1 - dL_dtheta1.T\n",
    "        theta_layer2 = theta_layer2 - dL_dtheta2.T\n",
    "        \n",
    "    return theta_layer1, theta_layer2\n",
    "    \n",
    "model = train_neural (X,y_copy,iterations=2)\n",
    "    "
   ]
  },
  {
   "cell_type": "code",
   "execution_count": null,
   "metadata": {},
   "outputs": [],
   "source": [
    "def predict_neural (X):\n",
    "    theta1 = \n",
    "    for i in range"
   ]
  },
  {
   "cell_type": "code",
   "execution_count": null,
   "metadata": {},
   "outputs": [],
   "source": []
  }
 ],
 "metadata": {
  "kernelspec": {
   "display_name": "Python 3",
   "language": "python",
   "name": "python3"
  },
  "language_info": {
   "codemirror_mode": {
    "name": "ipython",
    "version": 3
   },
   "file_extension": ".py",
   "mimetype": "text/x-python",
   "name": "python",
   "nbconvert_exporter": "python",
   "pygments_lexer": "ipython3",
   "version": "3.7.6"
  }
 },
 "nbformat": 4,
 "nbformat_minor": 4
}
